{
  "nbformat": 4,
  "nbformat_minor": 0,
  "metadata": {
    "colab": {
      "provenance": []
    },
    "kernelspec": {
      "name": "python3",
      "display_name": "Python 3"
    },
    "language_info": {
      "name": "python"
    }
  },
  "cells": [
    {
      "cell_type": "markdown",
      "source": [
        " Laptop Price Prediction"
      ],
      "metadata": {
        "id": "Q0lpO6UFF7Sr"
      }
    },
    {
      "cell_type": "markdown",
      "source": [
        " Business Understanding"
      ],
      "metadata": {
        "id": "f1N-mPqjGSpZ"
      }
    },
    {
      "cell_type": "markdown",
      "source": [
        " Tujuan utama dari proyek ini adalah untuk membangun model prediksi harga laptop berdasarkan spesifikasi dan fitur-fitur laptop yang tersedia dalam dataset. Dengan prediksi harga yang akurat, calon pembeli dapat memiliki gambaran yang lebih baik mengenai kisaran harga laptop sesuai kebutuhannya, serta membantu produsen dan penjual dalam menyusun strategi harga yang lebih efektif."
      ],
      "metadata": {
        "id": "UAJpmnpkGeFK"
      }
    },
    {
      "cell_type": "markdown",
      "source": [
        "##Assess Situation"
      ],
      "metadata": {
        "id": "r5OcVRpjbKLL"
      }
    },
    {
      "cell_type": "markdown",
      "source": [
        "###Industri teknologi, khususnya perangkat elektronik seperti laptop, berkembang pesat dengan banyaknya merek dan model yang terus bermunculan. Persaingan harga semakin ketat, sementara konsumen semakin selektif dalam memilih perangkat yang sesuai anggaran dan kebutuhannya. Dengan memahami pola harga dari spesifikasi laptop, kita bisa mengidentifikasi faktor-faktor utama yang mempengaruhi harga, serta mendukung pengambilan keputusan yang lebih cerdas bagi semua pihak terkait."
      ],
      "metadata": {
        "id": "hb-9WN_LbQrp"
      }
    },
    {
      "cell_type": "markdown",
      "source": [
        "Data Mining Goals"
      ],
      "metadata": {
        "id": "onu68gPubZ2l"
      }
    },
    {
      "cell_type": "markdown",
      "source": [
        "Tujuan data mining dari proyek ini adalah membangun model Machine Learning yang mampu memprediksi harga laptop berdasarkan fitur-fitur seperti merek, ukuran layar, tipe prosesor, kapasitas RAM, jenis penyimpanan, dan fitur lainnya. Dengan hasil prediksi ini, kita juga bisa menemukan hubungan antara spesifikasi dengan harga pasar."
      ],
      "metadata": {
        "id": "vriZ1ZjLbtNn"
      }
    },
    {
      "cell_type": "markdown",
      "source": [
        "Project Plan"
      ],
      "metadata": {
        "id": "40n7iHo9bvuP"
      }
    },
    {
      "cell_type": "markdown",
      "source": [
        "Proyek ini akan dilaksanakan melalui beberapa tahapan:\n",
        "\n",
        "-Pemilihan dataset yang relevan\n",
        "\n",
        "-Pembersihan dan eksplorasi data\n",
        "\n",
        "-Analisis korelasi antar fitur\n",
        "\n",
        "-Pemilihan model prediksi yang sesuai\n",
        "\n",
        "-Training dan evaluasi model\n",
        "\n",
        "-Dokumentasi dan visualisasi hasil"
      ],
      "metadata": {
        "id": "UMrRApaOb6jb"
      }
    }
  ]
}