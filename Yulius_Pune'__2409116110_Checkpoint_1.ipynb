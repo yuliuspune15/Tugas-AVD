{
  "nbformat": 4,
  "nbformat_minor": 0,
  "metadata": {
    "colab": {
      "provenance": [],
      "authorship_tag": "ABX9TyPOn3+LRotsiDLn8sec9iDx",
      "include_colab_link": true
    },
    "kernelspec": {
      "name": "python3",
      "display_name": "Python 3"
    },
    "language_info": {
      "name": "python"
    }
  },
  "cells": [
    {
      "cell_type": "markdown",
      "metadata": {
        "id": "view-in-github",
        "colab_type": "text"
      },
      "source": [
        "<a href=\"https://colab.research.google.com/github/yuliuspune15/Tugas-AVD/blob/main/Yulius_Pune'__2409116110_Checkpoint_1.ipynb\" target=\"_parent\"><img src=\"https://colab.research.google.com/assets/colab-badge.svg\" alt=\"Open In Colab\"/></a>"
      ]
    },
    {
      "cell_type": "markdown",
      "source": [
        "#Laptop Price Prediction"
      ],
      "metadata": {
        "id": "UBxT1guw1IuR"
      }
    },
    {
      "cell_type": "markdown",
      "source": [
        "##Business Understanding"
      ],
      "metadata": {
        "id": "5xHNSFIw1KaE"
      }
    },
    {
      "cell_type": "markdown",
      "source": [
        "###Tujuan utama dari proyek ini adalah untuk membangun model prediksi harga laptop berdasarkan spesifikasi dan fitur-fitur laptop yang tersedia dalam dataset. Dengan prediksi harga yang akurat, calon pembeli dapat memiliki gambaran yang lebih baik mengenai kisaran harga laptop sesuai kebutuhannya, serta membantu produsen dan penjual dalam menyusun strategi harga yang lebih efektif."
      ],
      "metadata": {
        "id": "m5qhlPWV1PKO"
      }
    },
    {
      "cell_type": "markdown",
      "source": [
        "##Assess Situation"
      ],
      "metadata": {
        "id": "X6wIT5P31X9U"
      }
    },
    {
      "cell_type": "markdown",
      "source": [
        "###Industri teknologi, khususnya perangkat elektronik seperti laptop, berkembang pesat dengan banyaknya merek dan model yang terus bermunculan. Persaingan harga semakin ketat, sementara konsumen semakin selektif dalam memilih perangkat yang sesuai anggaran dan kebutuhannya. Dengan memahami pola harga dari spesifikasi laptop, kita bisa mengidentifikasi faktor-faktor utama yang mempengaruhi harga, serta mendukung pengambilan keputusan yang lebih cerdas bagi semua pihak terkait."
      ],
      "metadata": {
        "id": "eQNaV7G11gCF"
      }
    },
    {
      "cell_type": "markdown",
      "source": [
        "##Data Mining Goals"
      ],
      "metadata": {
        "id": "nHT2xzEe1qy_"
      }
    },
    {
      "cell_type": "markdown",
      "source": [
        "###Tujuan data mining dari proyek ini adalah membangun model Machine Learning yang mampu memprediksi harga laptop berdasarkan fitur-fitur seperti merek, ukuran layar, tipe prosesor, kapasitas RAM, jenis penyimpanan, dan fitur lainnya. Dengan hasil prediksi ini, kita juga bisa menemukan hubungan antara spesifikasi dengan harga pasar."
      ],
      "metadata": {
        "id": "ZqXHP5vF1v35"
      }
    },
    {
      "cell_type": "markdown",
      "source": [
        "##Project Plan"
      ],
      "metadata": {
        "id": "e0XDeudu10rq"
      }
    },
    {
      "cell_type": "markdown",
      "source": [
        "###Proyek ini akan dilaksanakan melalui beberapa tahapan:\n",
        "-Pemilihan dataset yang relevan\n",
        "\n",
        "-Pembersihan dan eksplorasi data\n",
        "\n",
        "-Analisis korelasi antar fitur\n",
        "\n",
        "-Pemilihan model prediksi yang sesuai\n",
        "\n",
        "-Training dan evaluasi model\n",
        "\n",
        "-Dokumentasi dan visualisasi hasil"
      ],
      "metadata": {
        "id": "J_EPdBPO14pH"
      }
    }
  ]
}